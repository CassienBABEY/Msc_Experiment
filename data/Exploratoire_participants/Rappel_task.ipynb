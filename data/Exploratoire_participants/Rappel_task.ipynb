{
 "cells": [
  {
   "cell_type": "code",
   "execution_count": 1,
   "id": "b77fa237",
   "metadata": {
    "ExecuteTime": {
     "end_time": "2023-03-20T11:40:04.340697Z",
     "start_time": "2023-03-20T11:40:03.802370Z"
    }
   },
   "outputs": [],
   "source": [
    "import numpy as np\n",
    "import pandas as pd"
   ]
  },
  {
   "cell_type": "code",
   "execution_count": 3,
   "id": "38c1942d",
   "metadata": {
    "ExecuteTime": {
     "end_time": "2023-03-20T11:47:41.580826Z",
     "start_time": "2023-03-20T11:47:41.572076Z"
    }
   },
   "outputs": [],
   "source": [
    "CJ1_rappel = pd.Series([\n",
    "    'Il y a eu 25 présidents francais',\n",
    "    'Un attentat terroriste a eu lieu dans les métros Londonien en juillet 2005',\n",
    "    \"L'oeil d'une autruche est plus gros que son cerveau\",\n",
    "    \"L'Europe est le seul continent sans desert\",\n",
    "    'Les ongles incarnés sont héréditaires',\n",
    "    'Une vache produit environ 200 000 bouteilles de lait pendant toute sa vie',\n",
    "    'Il y a environ 178 graines de sésames sur le pain des BigMac du McDonald',\n",
    "    'Le cerveau des crevettes se trouve dans leur corps',\n",
    "    \"L'himalaya [...] par sa superficie\",\n",
    "    \"On perd environ 18kg de peau au long d'une vie\",\n",
    "    \"On brûle plus de calorie lorsqu'on dort plutôt qu'en regardant la télé\",\n",
    "    \"Le drapeau de la République Dominicaine est le seul à avoir la Bible\",\n",
    "    \"Les séparatistes de la Russie Tchtchènes Sud ont pris en otage une école en [...] 2006\",\n",
    "    \"L'identifiant numérique national du [...] est 672\",\n",
    "    \"Les cacahuètes sont des composants de la dynamite\"\n",
    "])"
   ]
  },
  {
   "cell_type": "code",
   "execution_count": 4,
   "id": "1f6e0e40",
   "metadata": {
    "ExecuteTime": {
     "end_time": "2023-03-20T11:47:45.366880Z",
     "start_time": "2023-03-20T11:47:45.340990Z"
    }
   },
   "outputs": [
    {
     "data": {
      "text/plain": [
       "0                      Il y a eu 25 présidents francais\n",
       "1     Un attentat terroriste a eu lieu dans les métr...\n",
       "2     L'oeil d'une autruche est plus gros que son ce...\n",
       "3            L'Europe est le seul continent sans desert\n",
       "4                 Les ongles incarnés sont héréditaires\n",
       "5     Une vache produit environ 200 000 bouteilles d...\n",
       "6     Il y a environ 178 graines de sésames sur le p...\n",
       "7     Le cerveau des crevettes se trouve dans leur c...\n",
       "8                    L'himalaya [...] par sa superficie\n",
       "9        On perd environ 18kg de peau au long d'une vie\n",
       "10    On brûle plus de calorie lorsqu'on dort plutôt...\n",
       "11    Le drapeau de la République Dominicaine est le...\n",
       "12    Les séparatistes de la Russie Tchtchènes Sud o...\n",
       "13    L'identifiant numérique national du [...] est 672\n",
       "14    Les cacahuètes sont des composants de la dynamite\n",
       "dtype: object"
      ]
     },
     "execution_count": 4,
     "metadata": {},
     "output_type": "execute_result"
    }
   ],
   "source": [
    "CJ1_rappel"
   ]
  },
  {
   "cell_type": "code",
   "execution_count": 5,
   "id": "b487c2c1",
   "metadata": {
    "ExecuteTime": {
     "end_time": "2023-03-20T11:54:35.740525Z",
     "start_time": "2023-03-20T11:54:35.731780Z"
    }
   },
   "outputs": [],
   "source": [
    "MG2_rappel = pd.Series([\n",
    "    \"Le kangourou est l'animal emblématique de l'Australie\",\n",
    "    \"Seul 2 pays touchent 3 océans, c'est les états-Unis et le Canada\",\n",
    "    \"Des attentas terroristes sont faits dans le métro londonien en octobre 2005\",\n",
    "    \"La France a 25 Présidents avant\",\n",
    "    \"La corée du sud annoncent le succès des essais nucléaires en 2004\",\n",
    "    \"La langue chinoise contient 40 000 caractères\"\n",
    "])"
   ]
  },
  {
   "cell_type": "code",
   "execution_count": 6,
   "id": "c83109fc",
   "metadata": {
    "ExecuteTime": {
     "end_time": "2023-03-20T11:54:40.671532Z",
     "start_time": "2023-03-20T11:54:40.659408Z"
    }
   },
   "outputs": [
    {
     "data": {
      "text/plain": [
       "0    Le kangourou est l'animal emblématique de l'Au...\n",
       "1    Seul 2 pays touchent 3 océans, c'est les états...\n",
       "2    Des attentas terroristes sont faits dans le mé...\n",
       "3                      La France a 25 Présidents avant\n",
       "4    La corée du sud annoncent le succès des essais...\n",
       "5        La langue chinoise contient 40 000 caractères\n",
       "dtype: object"
      ]
     },
     "execution_count": 6,
     "metadata": {},
     "output_type": "execute_result"
    }
   ],
   "source": [
    "MG2_rappel"
   ]
  },
  {
   "cell_type": "code",
   "execution_count": 7,
   "id": "826c3111",
   "metadata": {
    "ExecuteTime": {
     "end_time": "2023-03-20T11:59:55.993616Z",
     "start_time": "2023-03-20T11:59:55.984412Z"
    }
   },
   "outputs": [],
   "source": [
    "ED3_rappel = pd.Series([\n",
    "    \"L'Europe est le seul continent sans désert\",\n",
    "    \"Un humain perd 18kg de peau dans sa vie\",\n",
    "    \"Les Etats-Unis et le Canada sont les 2 pays bordant 2 océans\",\n",
    "    \"L'océan atlantique est plus salé que l'océan indien\",\n",
    "    \"Il y a eu 25 présidents de la République Francaise\",\n",
    "    \"Le drapeau de [...] est le seul à avoir une bible dessus\",\n",
    "    \"Les ongles incarnés sont [...]\",\n",
    "    \"Le coeur des crevettes est dans leur tête\",\n",
    "    \"La pyramide de Gyzé est une des seules merveilles du monde encore existante parmi les 7\",\n",
    "    \"L'Himalaya continue de grandir grâce à des collisions de plaques terrestres\",\n",
    "    \"L'oiseau bleu ne voit pas la couleur bleue\"\n",
    "])"
   ]
  },
  {
   "cell_type": "code",
   "execution_count": 8,
   "id": "dfbf05f0",
   "metadata": {
    "ExecuteTime": {
     "end_time": "2023-03-20T12:00:00.056539Z",
     "start_time": "2023-03-20T12:00:00.041180Z"
    }
   },
   "outputs": [
    {
     "data": {
      "text/plain": [
       "0            L'Europe est le seul continent sans désert\n",
       "1               Un humain perd 18kg de peau dans sa vie\n",
       "2     Les Etats-Unis et le Canada sont les 2 pays bo...\n",
       "3     L'océan atlantique est plus salé que l'océan i...\n",
       "4     Il y a eu 25 présidents de la République Franc...\n",
       "5     Le drapeau de [...] est le seul à avoir une bi...\n",
       "6                        Les ongles incarnés sont [...]\n",
       "7             Le coeur des crevettes est dans leur tête\n",
       "8     La pyramide de Gyzé est une des seules merveil...\n",
       "9     L'Himalaya continue de grandir grâce à des col...\n",
       "10           L'oiseau bleu ne voit pas la couleur bleue\n",
       "dtype: object"
      ]
     },
     "execution_count": 8,
     "metadata": {},
     "output_type": "execute_result"
    }
   ],
   "source": [
    "ED3_rappel"
   ]
  },
  {
   "cell_type": "code",
   "execution_count": 15,
   "id": "32dfd8e9",
   "metadata": {
    "ExecuteTime": {
     "end_time": "2023-03-20T12:09:09.166671Z",
     "start_time": "2023-03-20T12:09:09.156951Z"
    }
   },
   "outputs": [],
   "source": [
    "AK4_rappel = pd.Series([\n",
    "    \"Les ongles incarnés sont héréditaires\",\n",
    "    \"Les oiseau bleu ne peuvent pas voir la couleur bleu\",\n",
    "    \"La pyramide de gizée est la seule des 7 merveilles du monde à être de l'ancien monde et à encore exister\",\n",
    "    \"Les frites ne sont pas Belges mais Françaises\",\n",
    "    \"Il existe seulement 2 pays qui touchent 3 océans différents ce sont les Etats unis et le Canada\",\n",
    "    \"Les séparatistes tchétchènes du Sud de la russie ont pris en otage une école en septembre 2004\",\n",
    "    \"L'oeil de l'autruche est plus grosse que son cerveau\",\n",
    "    \"Le groenland est la plus grande presque-île qui existe\",\n",
    "    \"La cacahuète est un ingrédient de la dynamite\",\n",
    "    \"Un attentat a été commis en 2004\", \"Il y a eu 25 présidents Français\",\n",
    "    \"Sur la carte de visite d'Al Capone il était indiqué qu'il était [...]\"\n",
    "])"
   ]
  },
  {
   "cell_type": "code",
   "execution_count": 10,
   "id": "b33316bb",
   "metadata": {
    "ExecuteTime": {
     "end_time": "2023-03-20T12:05:36.706853Z",
     "start_time": "2023-03-20T12:05:36.691276Z"
    }
   },
   "outputs": [
    {
     "data": {
      "text/plain": [
       "0                 Les ongles incarnés sont héréditaires\n",
       "1     Les oiseau bleu ne peuvent pas voir la couleur...\n",
       "2     La pyramide de gizée est la seule des 7 mervei...\n",
       "3         Les frites ne sont pas Belges mais Françaises\n",
       "4     Il existe seulement 2 pays qui touchent 3 océa...\n",
       "5     Les séparatistes tchétchènes du Sud de la russ...\n",
       "6     L'oeil de l'autruche est plus grosse que son c...\n",
       "7     Le groenland est la plus grande presque-île qu...\n",
       "8         La cacahuète est un ingrédient de la dynamite\n",
       "9                      Un attentat a été commis en 2004\n",
       "10                     Il y a eu 25 présidents Français\n",
       "11    Sur la carte de visite d'Al Capone il était in...\n",
       "dtype: object"
      ]
     },
     "execution_count": 10,
     "metadata": {},
     "output_type": "execute_result"
    }
   ],
   "source": [
    "AK4_rappel"
   ]
  },
  {
   "cell_type": "code",
   "execution_count": 13,
   "id": "5c89045a",
   "metadata": {
    "ExecuteTime": {
     "end_time": "2023-03-20T12:08:58.426924Z",
     "start_time": "2023-03-20T12:08:58.418775Z"
    }
   },
   "outputs": [],
   "source": [
    "AP5_rappel = pd.Series([\n",
    "    \"Ongles incarnés sont héréditaires\",\n",
    "    \"Le Big Mac a environ 178 graines de sésame\",\n",
    "    \"L'Europe est le continent qui n'a pas de désert\",\n",
    "    \"Groupe Tchetchène a pris en otage une école du SUd en 2004\",\n",
    "    \"Comme l'empreinte digitale, le coeur est propre à chacun on peut le reconnaitre avec une signature cardiaque différente\",\n",
    "    \"L'océan atlantique [...] par rapport à l'océant pacifique\",\n",
    "    \"La pyramide [...] est considérée comme une merveille du monde\"\n",
    "    \"[...] Al Capone\", \"[...] 100 000\"\n",
    "])"
   ]
  },
  {
   "cell_type": "code",
   "execution_count": 14,
   "id": "bde593cf",
   "metadata": {
    "ExecuteTime": {
     "end_time": "2023-03-20T12:08:58.669177Z",
     "start_time": "2023-03-20T12:08:58.654482Z"
    }
   },
   "outputs": [
    {
     "data": {
      "text/plain": [
       "0                    Ongles incarnés sont héréditaires\n",
       "1           Le Big Mac a environ 178 graines de sésame\n",
       "2      L'Europe est le continent qui n'a pas de désert\n",
       "3    Groupe Tchetchène a pris en otage une école du...\n",
       "4    Comme l'empreinte digitale, le coeur est propr...\n",
       "5    L'océan atlantique [...] par rapport à l'océan...\n",
       "6    La pyramide [...] est considérée comme une mer...\n",
       "7                                        [...] 100 000\n",
       "dtype: object"
      ]
     },
     "execution_count": 14,
     "metadata": {},
     "output_type": "execute_result"
    }
   ],
   "source": [
    "AP5_rappel"
   ]
  },
  {
   "cell_type": "code",
   "execution_count": 17,
   "id": "bcbaed98",
   "metadata": {
    "ExecuteTime": {
     "end_time": "2023-03-20T12:13:14.699539Z",
     "start_time": "2023-03-20T12:13:14.690388Z"
    }
   },
   "outputs": [],
   "source": [
    "MC6_rappel = pd.Series([\n",
    "    \"Le Groenland est l'île possédant la plus grande superifcie\",\n",
    "    \"Il y a seulement 2 pays qui touche 3 océans, les Etats-Unis et le Canada\",\n",
    "    \"La cacahuète fait parie d'une des composantes de la dynamite\",\n",
    "    \"La Corée du Nord a effectué un entrainement nucléaire qui s'est bien déroulé en février 2003\",\n",
    "    \"Attaque dans le métro londonien juillet 2005\",\n",
    "    \"La France a connu 25 présidents\", \"tchétchènes [...]\",\n",
    "    \"La République dominicaine est l'un des seuls pays a avoir une bible dans son drapeau\",\n",
    "    \"tsunamies [...]\",\n",
    "    \"L'Himalaya continue de grandir grace au mouvement des plaques techtoniques\",\n",
    "    \"En Afriqeu du Sud [...]\", \"Antarctique\",\n",
    "    \"On dépense plus d'énergie en dormant qu'en regardant la télé\"\n",
    "])"
   ]
  },
  {
   "cell_type": "code",
   "execution_count": 18,
   "id": "acf4e186",
   "metadata": {
    "ExecuteTime": {
     "end_time": "2023-03-20T12:13:19.316879Z",
     "start_time": "2023-03-20T12:13:19.304790Z"
    }
   },
   "outputs": [
    {
     "data": {
      "text/plain": [
       "0     Le Groenland est l'île possédant la plus grand...\n",
       "1     Il y a seulement 2 pays qui touche 3 océans, l...\n",
       "2     La cacahuète fait parie d'une des composantes ...\n",
       "3     La Corée du Nord a effectué un entrainement nu...\n",
       "4          Attaque dans le métro londonien juillet 2005\n",
       "5                       La France a connu 25 présidents\n",
       "6                                     tchétchènes [...]\n",
       "7     La République dominicaine est l'un des seuls p...\n",
       "8                                       tsunamies [...]\n",
       "9     L'Himalaya continue de grandir grace au mouvem...\n",
       "10                              En Afriqeu du Sud [...]\n",
       "11                                          Antarctique\n",
       "12    On dépense plus d'énergie en dormant qu'en reg...\n",
       "dtype: object"
      ]
     },
     "execution_count": 18,
     "metadata": {},
     "output_type": "execute_result"
    }
   ],
   "source": [
    "MC6_rappel"
   ]
  },
  {
   "cell_type": "code",
   "execution_count": 19,
   "id": "6ada33fe",
   "metadata": {
    "ExecuteTime": {
     "end_time": "2023-03-21T17:09:17.538324Z",
     "start_time": "2023-03-21T17:09:17.491419Z"
    }
   },
   "outputs": [],
   "source": [
    "EG7_rappel = pd.Series([\n",
    "    \"Il y a que 3 océans qui touchent 2 pays les Etats Unis et le canada\",\n",
    "    \"La pyramide de Gizé est une des seule merveilles du monde appartenir à l'ancien monde\",\n",
    "    \"Les cacahuètes sont utilisés pour les dynamite\",\n",
    "    \"L'Europe est le seule continent sans désert\",\n",
    "    \"[...] à attaqué une école en Russie en 2003\", \"Le Groenland [...]\"\n",
    "    \"Au Royaume Unis, dans la ville de York ils ont le droit de tué un Ecossais si il porte un arc et des flèches\",\n",
    "    \"L'océan Atlantique est plus salé que l'océan Pacifique\"\n",
    "])"
   ]
  },
  {
   "cell_type": "code",
   "execution_count": 20,
   "id": "8d819d07",
   "metadata": {
    "ExecuteTime": {
     "end_time": "2023-03-21T17:09:23.011298Z",
     "start_time": "2023-03-21T17:09:22.975298Z"
    }
   },
   "outputs": [
    {
     "data": {
      "text/plain": [
       "0    Il y a que 3 océans qui touchent 2 pays les Et...\n",
       "1    La pyramide de Gizé est une des seule merveill...\n",
       "2       Les cacahuètes sont utilisés pour les dynamite\n",
       "3          L'Europe est le seule continent sans désert\n",
       "4          [...] à attaqué une école en Russie en 2003\n",
       "5    Le Groenland [...]Au Royaume Unis, dans la vil...\n",
       "6    L'océan Atlantique est plus salé que l'océan P...\n",
       "dtype: object"
      ]
     },
     "execution_count": 20,
     "metadata": {},
     "output_type": "execute_result"
    }
   ],
   "source": [
    "EG7_rappel"
   ]
  },
  {
   "cell_type": "code",
   "execution_count": 21,
   "id": "5157145e",
   "metadata": {
    "ExecuteTime": {
     "end_time": "2023-03-21T17:17:25.490035Z",
     "start_time": "2023-03-21T17:17:25.478537Z"
    }
   },
   "outputs": [],
   "source": [
    "LD8_rappel = pd.Series([\n",
    "    \"Sur la carte d'Al Capone était marqué qu'il vendait des meubles d'occasions\",\n",
    "    \"Le coeur de la crevette se trouve dans sa tête\",\n",
    "    \"La République Dominicaine est l'un des seus pays à avoir une bible dans son drapeau\",\n",
    "    \"Le continent Européen n'a pas de désert\",\n",
    "    \"La raie manta mesure 40 mètres de long pour 2T\",\n",
    "    \"Tout comme l'empreinte digitale, le coeur peut être reconnue grâce à la fréquence cardiaque\",\n",
    "    \"Les oiseaux bleus ne voient pas la couleur bleue\",\n",
    "    \"Il y a eu des attentats dans les métros londonien en 2005\",\n",
    "    \"A Londre, on peut tuer un Ecossais s'il a un arc et une flèche\",\n",
    "    \"Il n'y a que 2 pays qui touchent 3 océans, les Etats-Unis et le Canada\",\n",
    "    \"Truc de L'antarctique 672\", \"L'antarctique a la plus grande superficie\",\n",
    "    \"Asie du Nord [...]\", \"Russie, otage, [...]\",\n",
    "    \"Dans l'écriture chinoise il y a 40 000 caractère\",\n",
    "    \"Il y a eu 25 présidents francais\", \"200 000 [...]\",\n",
    "    \"Les concerts de LS ont pris leurs places en G8 pour l'Afrique du Sud\"\n",
    "])"
   ]
  },
  {
   "cell_type": "code",
   "execution_count": 22,
   "id": "edda1991",
   "metadata": {
    "ExecuteTime": {
     "end_time": "2023-03-21T17:17:49.139955Z",
     "start_time": "2023-03-21T17:17:49.128630Z"
    }
   },
   "outputs": [
    {
     "data": {
      "text/plain": [
       "0     Sur la carte d'Al Capone était marqué qu'il ve...\n",
       "1        Le coeur de la crevette se trouve dans sa tête\n",
       "2     La République Dominicaine est l'un des seus pa...\n",
       "3               Le continent Européen n'a pas de désert\n",
       "4        La raie manta mesure 40 mètres de long pour 2T\n",
       "5     Tout comme l'empreinte digitale, le coeur peut...\n",
       "6      Les oiseaux bleus ne voient pas la couleur bleue\n",
       "7     Il y a eu des attentats dans les métros london...\n",
       "8     A Londre, on peut tuer un Ecossais s'il a un a...\n",
       "9     Il n'y a que 2 pays qui touchent 3 océans, les...\n",
       "10                            Truc de L'antarctique 672\n",
       "11            L'antarctique a la plus grande superficie\n",
       "12                                   Asie du Nord [...]\n",
       "13                                 Russie, otage, [...]\n",
       "14     Dans l'écriture chinoise il y a 40 000 caractère\n",
       "15                     Il y a eu 25 présidents francais\n",
       "16                                        200 000 [...]\n",
       "17    Les concerts de LS ont pris leurs places en G8...\n",
       "dtype: object"
      ]
     },
     "execution_count": 22,
     "metadata": {},
     "output_type": "execute_result"
    }
   ],
   "source": [
    "LD8_rappel"
   ]
  },
  {
   "cell_type": "code",
   "execution_count": null,
   "id": "ba114d3c",
   "metadata": {},
   "outputs": [],
   "source": []
  }
 ],
 "metadata": {
  "kernelspec": {
   "display_name": "Python 3 (ipykernel)",
   "language": "python",
   "name": "python3"
  },
  "language_info": {
   "codemirror_mode": {
    "name": "ipython",
    "version": 3
   },
   "file_extension": ".py",
   "mimetype": "text/x-python",
   "name": "python",
   "nbconvert_exporter": "python",
   "pygments_lexer": "ipython3",
   "version": "3.10.6"
  },
  "toc": {
   "base_numbering": 1,
   "nav_menu": {},
   "number_sections": true,
   "sideBar": true,
   "skip_h1_title": false,
   "title_cell": "Table of Contents",
   "title_sidebar": "Contents",
   "toc_cell": false,
   "toc_position": {},
   "toc_section_display": true,
   "toc_window_display": false
  }
 },
 "nbformat": 4,
 "nbformat_minor": 5
}
