{
 "cells": [
  {
   "cell_type": "markdown",
   "id": "44cbd2f0",
   "metadata": {},
   "source": [
    "# Score Table"
   ]
  },
  {
   "cell_type": "markdown",
   "id": "147b883a",
   "metadata": {},
   "source": [
    "## 1. Import"
   ]
  },
  {
   "cell_type": "code",
   "execution_count": 2,
   "id": "4076ebf9",
   "metadata": {
    "ExecuteTime": {
     "end_time": "2023-03-20T10:00:52.820812Z",
     "start_time": "2023-03-20T10:00:50.038713Z"
    }
   },
   "outputs": [],
   "source": [
    "import pandas as pd\n",
    "import numpy as np\n",
    "import matplotlib.pyplot as plt"
   ]
  },
  {
   "cell_type": "markdown",
   "id": "cd6de39d",
   "metadata": {},
   "source": [
    "# 2. Create the table\n",
    "\n",
    "The easiest way for people who's not used to Python.  \n",
    "You can also use excel, R, ..."
   ]
  },
  {
   "cell_type": "code",
   "execution_count": 36,
   "id": "ee46e718",
   "metadata": {
    "ExecuteTime": {
     "end_time": "2023-03-20T11:16:36.723940Z",
     "start_time": "2023-03-20T11:16:36.708007Z"
    }
   },
   "outputs": [],
   "source": [
    "dataframe_sparrow = pd.DataFrame()\n",
    "dataframe_sparrow['Participants'] = pd.Series(['CJ1','MJ2','ED3','AK4','AP5','MC6','EG7','LD8'])\n",
    "dataframe_sparrow['Score_Reco'] = pd.Series(['9/32','4/32','7/32','12/32','5/32','7/32','4/32','9/32'])\n",
    "dataframe_sparrow['Score_Rappel'] = pd.Series(['NaN','NaN'])"
   ]
  },
  {
   "cell_type": "code",
   "execution_count": 37,
   "id": "cbdbe308",
   "metadata": {
    "ExecuteTime": {
     "end_time": "2023-03-20T11:16:37.817927Z",
     "start_time": "2023-03-20T11:16:37.802092Z"
    },
    "scrolled": true
   },
   "outputs": [
    {
     "data": {
      "text/html": [
       "<div>\n",
       "<style scoped>\n",
       "    .dataframe tbody tr th:only-of-type {\n",
       "        vertical-align: middle;\n",
       "    }\n",
       "\n",
       "    .dataframe tbody tr th {\n",
       "        vertical-align: top;\n",
       "    }\n",
       "\n",
       "    .dataframe thead th {\n",
       "        text-align: right;\n",
       "    }\n",
       "</style>\n",
       "<table border=\"1\" class=\"dataframe\">\n",
       "  <thead>\n",
       "    <tr style=\"text-align: right;\">\n",
       "      <th></th>\n",
       "      <th>Participants</th>\n",
       "      <th>Score_Reco</th>\n",
       "      <th>Score_Rappel</th>\n",
       "    </tr>\n",
       "  </thead>\n",
       "  <tbody>\n",
       "    <tr>\n",
       "      <th>0</th>\n",
       "      <td>CJ1</td>\n",
       "      <td>9/32</td>\n",
       "      <td>NaN</td>\n",
       "    </tr>\n",
       "    <tr>\n",
       "      <th>1</th>\n",
       "      <td>MJ2</td>\n",
       "      <td>4/32</td>\n",
       "      <td>NaN</td>\n",
       "    </tr>\n",
       "    <tr>\n",
       "      <th>2</th>\n",
       "      <td>ED3</td>\n",
       "      <td>7/32</td>\n",
       "      <td>NaN</td>\n",
       "    </tr>\n",
       "    <tr>\n",
       "      <th>3</th>\n",
       "      <td>AK4</td>\n",
       "      <td>12/32</td>\n",
       "      <td>NaN</td>\n",
       "    </tr>\n",
       "    <tr>\n",
       "      <th>4</th>\n",
       "      <td>AP5</td>\n",
       "      <td>5/32</td>\n",
       "      <td>NaN</td>\n",
       "    </tr>\n",
       "    <tr>\n",
       "      <th>5</th>\n",
       "      <td>MC6</td>\n",
       "      <td>7/32</td>\n",
       "      <td>NaN</td>\n",
       "    </tr>\n",
       "    <tr>\n",
       "      <th>6</th>\n",
       "      <td>EG7</td>\n",
       "      <td>4/32</td>\n",
       "      <td>NaN</td>\n",
       "    </tr>\n",
       "    <tr>\n",
       "      <th>7</th>\n",
       "      <td>LD8</td>\n",
       "      <td>9/32</td>\n",
       "      <td>NaN</td>\n",
       "    </tr>\n",
       "  </tbody>\n",
       "</table>\n",
       "</div>"
      ],
      "text/plain": [
       "  Participants Score_Reco Score_Rappel\n",
       "0          CJ1       9/32          NaN\n",
       "1          MJ2       4/32          NaN\n",
       "2          ED3       7/32          NaN\n",
       "3          AK4      12/32          NaN\n",
       "4          AP5       5/32          NaN\n",
       "5          MC6       7/32          NaN\n",
       "6          EG7       4/32          NaN\n",
       "7          LD8       9/32          NaN"
      ]
     },
     "execution_count": 37,
     "metadata": {},
     "output_type": "execute_result"
    }
   ],
   "source": [
    "dataframe_sparrow"
   ]
  },
  {
   "cell_type": "code",
   "execution_count": null,
   "id": "31b54295",
   "metadata": {},
   "outputs": [],
   "source": []
  }
 ],
 "metadata": {
  "kernelspec": {
   "display_name": "Python 3 (ipykernel)",
   "language": "python",
   "name": "python3"
  },
  "language_info": {
   "codemirror_mode": {
    "name": "ipython",
    "version": 3
   },
   "file_extension": ".py",
   "mimetype": "text/x-python",
   "name": "python",
   "nbconvert_exporter": "python",
   "pygments_lexer": "ipython3",
   "version": "3.10.9"
  },
  "toc": {
   "base_numbering": 1,
   "nav_menu": {},
   "number_sections": true,
   "sideBar": true,
   "skip_h1_title": false,
   "title_cell": "Table of Contents",
   "title_sidebar": "Contents",
   "toc_cell": false,
   "toc_position": {},
   "toc_section_display": true,
   "toc_window_display": false
  }
 },
 "nbformat": 4,
 "nbformat_minor": 5
}
