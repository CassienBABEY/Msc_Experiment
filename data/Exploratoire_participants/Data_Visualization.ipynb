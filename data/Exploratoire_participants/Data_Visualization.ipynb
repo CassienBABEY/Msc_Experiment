{
 "cells": [
  {
   "cell_type": "markdown",
   "id": "e815276c",
   "metadata": {},
   "source": [
    "## Data Visualization Solo Experiment"
   ]
  },
  {
   "cell_type": "markdown",
   "id": "0103568c",
   "metadata": {},
   "source": [
    "### 1. Import Packages"
   ]
  },
  {
   "cell_type": "code",
   "execution_count": null,
   "id": "0ff682be",
   "metadata": {},
   "outputs": [],
   "source": [
    "import pandas as pd\n",
    "import numpy as np"
   ]
  },
  {
   "cell_type": "markdown",
   "id": "42b57744",
   "metadata": {},
   "source": [
    "### 2. Load Participant's data in a dataframe"
   ]
  },
  {
   "cell_type": "code",
   "execution_count": null,
   "id": "25547c18",
   "metadata": {},
   "outputs": [],
   "source": [
    "participant_data = pd.read_csv(\"data_expe/participant_data.csv\") #Insert data_file\n",
    "participant_data"
   ]
  },
  {
   "cell_type": "markdown",
   "id": "00bfb9db",
   "metadata": {},
   "source": [
    "### 3. Select variables"
   ]
  },
  {
   "cell_type": "code",
   "execution_count": null,
   "id": "83b5ced0",
   "metadata": {},
   "outputs": [],
   "source": [
    "participant_data = participant_data[['anecdotes','fichier','tache_text.text','anecdotes_reco','reco_text.text']]"
   ]
  },
  {
   "cell_type": "markdown",
   "id": "fd71765f",
   "metadata": {},
   "source": [
    "### 4. Create the task's dataframe"
   ]
  },
  {
   "cell_type": "code",
   "execution_count": null,
   "id": "fe1ef252",
   "metadata": {},
   "outputs": [],
   "source": [
    "participant_task = participant_data[['anecdotes','tache_text.text','fichier']].loc[1:32]\n",
    "participant_task"
   ]
  },
  {
   "cell_type": "markdown",
   "id": "b20d59df",
   "metadata": {},
   "source": [
    "### 5. Create the reco's dataframe"
   ]
  },
  {
   "cell_type": "code",
   "execution_count": null,
   "id": "e6fc4d9a",
   "metadata": {},
   "outputs": [],
   "source": [
    "participant_reco = participant_data[['anecdotes_reco','fichier','reco_text.text']].loc[35:66]"
   ]
  },
  {
   "cell_type": "markdown",
   "id": "ec6e7901",
   "metadata": {},
   "source": [
    "### 6. Clear the reco's dataframe"
   ]
  },
  {
   "cell_type": "code",
   "execution_count": null,
   "id": "86e4b77b",
   "metadata": {},
   "outputs": [],
   "source": [
    "participant_reco['reco_text.text'] = participant_reco['reco_text.text'].str.upper()\n",
    "participant_reco['reco_text.text'] = participant_reco['reco_text.text'].replace(\n",
    "    'DONNÉES',\n",
    "    'DONNEES').replace('FAIT', 'FAITS').replace('DONNEE', 'DONNEES').replace(\n",
    "        'POINT',\n",
    "        'POINTS').replace('ITEM', 'ITEMS').replace('NOM', 'NOMS').replace(\n",
    "            'INFO', 'INFOS').replace('DONNÉE', 'DONNEES').replace(\n",
    "                'DONNÉS', 'DONNEES').replace('DONNÉ', 'DONNEES').replace(\n",
    "                    'POINT\\n', 'POINTS').replace('FAIT\\n', 'FAITS')\n",
    "participant_reco"
   ]
  },
  {
   "cell_type": "markdown",
   "id": "306b7331",
   "metadata": {},
   "source": [
    "### 7. Count reco score"
   ]
  },
  {
   "cell_type": "code",
   "execution_count": null,
   "id": "be849b7f",
   "metadata": {},
   "outputs": [],
   "source": [
    "Grep = AK4_RECO['fichier']==AK4_RECO['reco_text.text']\n",
    "Grep.value_counts()"
   ]
  }
 ],
 "metadata": {
  "kernelspec": {
   "display_name": "Python 3 (ipykernel)",
   "language": "python",
   "name": "python3"
  },
  "language_info": {
   "codemirror_mode": {
    "name": "ipython",
    "version": 3
   },
   "file_extension": ".py",
   "mimetype": "text/x-python",
   "name": "python",
   "nbconvert_exporter": "python",
   "pygments_lexer": "ipython3",
   "version": "3.10.9"
  }
 },
 "nbformat": 4,
 "nbformat_minor": 5
}
