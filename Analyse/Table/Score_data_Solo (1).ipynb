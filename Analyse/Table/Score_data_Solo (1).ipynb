{
 "cells": [
  {
   "cell_type": "code",
   "execution_count": 2,
   "id": "cdbdb0ee",
   "metadata": {
    "ExecuteTime": {
     "end_time": "2023-03-20T10:00:52.820812Z",
     "start_time": "2023-03-20T10:00:50.038713Z"
    }
   },
   "outputs": [],
   "source": [
    "import pandas as pd\n",
    "import numpy as np\n",
    "import matplotlib.pyplot as plt"
   ]
  },
  {
   "cell_type": "code",
   "execution_count": 38,
   "id": "3aede025",
   "metadata": {
    "ExecuteTime": {
     "end_time": "2023-03-21T17:21:30.698273Z",
     "start_time": "2023-03-21T17:21:30.589713Z"
    }
   },
   "outputs": [],
   "source": [
    "dataframe_sparrow = pd.DataFrame()\n",
    "dataframe_sparrow['Nb_anec_rappelé'] = pd.Series([15,6,11,12,8,13,7,18])\n",
    "dataframe_sparrow['Participants'] = pd.Series(['CJ1','MJ2','ED3','AK4','AP5','MC6','EG7','LD8'])\n",
    "dataframe_sparrow['Score_Reco'] = pd.Series(['9/32','4/32','7/32','12/32','5/32','7/32','4/32','9/32'])\n",
    "dataframe_sparrow['Score_Rappel'] = pd.Series(['NaN','NaN'])"
   ]
  },
  {
   "cell_type": "code",
   "execution_count": 39,
   "id": "bf718da8",
   "metadata": {
    "ExecuteTime": {
     "end_time": "2023-03-21T17:21:30.998514Z",
     "start_time": "2023-03-21T17:21:30.945330Z"
    },
    "scrolled": false
   },
   "outputs": [
    {
     "data": {
      "text/html": [
       "<div>\n",
       "<style scoped>\n",
       "    .dataframe tbody tr th:only-of-type {\n",
       "        vertical-align: middle;\n",
       "    }\n",
       "\n",
       "    .dataframe tbody tr th {\n",
       "        vertical-align: top;\n",
       "    }\n",
       "\n",
       "    .dataframe thead th {\n",
       "        text-align: right;\n",
       "    }\n",
       "</style>\n",
       "<table border=\"1\" class=\"dataframe\">\n",
       "  <thead>\n",
       "    <tr style=\"text-align: right;\">\n",
       "      <th></th>\n",
       "      <th>Nb_anec_rappelé</th>\n",
       "      <th>Participants</th>\n",
       "      <th>Score_Reco</th>\n",
       "      <th>Score_Rappel</th>\n",
       "    </tr>\n",
       "  </thead>\n",
       "  <tbody>\n",
       "    <tr>\n",
       "      <th>0</th>\n",
       "      <td>15</td>\n",
       "      <td>CJ1</td>\n",
       "      <td>9/32</td>\n",
       "      <td>NaN</td>\n",
       "    </tr>\n",
       "    <tr>\n",
       "      <th>1</th>\n",
       "      <td>6</td>\n",
       "      <td>MJ2</td>\n",
       "      <td>4/32</td>\n",
       "      <td>NaN</td>\n",
       "    </tr>\n",
       "    <tr>\n",
       "      <th>2</th>\n",
       "      <td>11</td>\n",
       "      <td>ED3</td>\n",
       "      <td>7/32</td>\n",
       "      <td>NaN</td>\n",
       "    </tr>\n",
       "    <tr>\n",
       "      <th>3</th>\n",
       "      <td>12</td>\n",
       "      <td>AK4</td>\n",
       "      <td>12/32</td>\n",
       "      <td>NaN</td>\n",
       "    </tr>\n",
       "    <tr>\n",
       "      <th>4</th>\n",
       "      <td>8</td>\n",
       "      <td>AP5</td>\n",
       "      <td>5/32</td>\n",
       "      <td>NaN</td>\n",
       "    </tr>\n",
       "    <tr>\n",
       "      <th>5</th>\n",
       "      <td>13</td>\n",
       "      <td>MC6</td>\n",
       "      <td>7/32</td>\n",
       "      <td>NaN</td>\n",
       "    </tr>\n",
       "    <tr>\n",
       "      <th>6</th>\n",
       "      <td>7</td>\n",
       "      <td>EG7</td>\n",
       "      <td>4/32</td>\n",
       "      <td>NaN</td>\n",
       "    </tr>\n",
       "    <tr>\n",
       "      <th>7</th>\n",
       "      <td>18</td>\n",
       "      <td>LD8</td>\n",
       "      <td>9/32</td>\n",
       "      <td>NaN</td>\n",
       "    </tr>\n",
       "  </tbody>\n",
       "</table>\n",
       "</div>"
      ],
      "text/plain": [
       "   Nb_anec_rappelé Participants Score_Reco Score_Rappel\n",
       "0               15          CJ1       9/32          NaN\n",
       "1                6          MJ2       4/32          NaN\n",
       "2               11          ED3       7/32          NaN\n",
       "3               12          AK4      12/32          NaN\n",
       "4                8          AP5       5/32          NaN\n",
       "5               13          MC6       7/32          NaN\n",
       "6                7          EG7       4/32          NaN\n",
       "7               18          LD8       9/32          NaN"
      ]
     },
     "execution_count": 39,
     "metadata": {},
     "output_type": "execute_result"
    }
   ],
   "source": [
    "dataframe_sparrow"
   ]
  },
  {
   "cell_type": "code",
   "execution_count": null,
   "id": "bf32f6f7",
   "metadata": {},
   "outputs": [],
   "source": []
  }
 ],
 "metadata": {
  "kernelspec": {
   "display_name": "Python 3 (ipykernel)",
   "language": "python",
   "name": "python3"
  },
  "language_info": {
   "codemirror_mode": {
    "name": "ipython",
    "version": 3
   },
   "file_extension": ".py",
   "mimetype": "text/x-python",
   "name": "python",
   "nbconvert_exporter": "python",
   "pygments_lexer": "ipython3",
   "version": "3.10.6"
  },
  "toc": {
   "base_numbering": 1,
   "nav_menu": {},
   "number_sections": true,
   "sideBar": true,
   "skip_h1_title": false,
   "title_cell": "Table of Contents",
   "title_sidebar": "Contents",
   "toc_cell": false,
   "toc_position": {},
   "toc_section_display": true,
   "toc_window_display": false
  }
 },
 "nbformat": 4,
 "nbformat_minor": 5
}
